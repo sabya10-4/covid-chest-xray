{
  "nbformat": 4,
  "nbformat_minor": 0,
  "metadata": {
    "colab": {
      "name": "Chest x-ray.ipynb",
      "provenance": [],
      "collapsed_sections": []
    },
    "kernelspec": {
      "display_name": "Python 3",
      "name": "python3"
    },
    "accelerator": "GPU"
  },
  "cells": [
    {
      "cell_type": "code",
      "metadata": {
        "id": "KdeHo495Jkoq"
      },
      "source": [
        "from keras import backend as K\r\n",
        "from keras.preprocessing.image import ImageDataGenerator,load_img, img_to_array\r\n",
        "from keras.models import Sequential, Model\r\n",
        "from keras.layers import Conv2D, MaxPooling2D, GlobalAveragePooling2D\r\n",
        "from keras.layers import Activation, Dropout, BatchNormalization, Flatten, Dense, AvgPool2D, MaxPool2D\r\n",
        "from keras.optimizers import Adam, SGD\r\n",
        "from kerastuner.tuners import RandomSearch\r\n",
        "\r\n",
        "from random import shuffle\r\n",
        "\r\n",
        "import tensorflow as tf\r\n",
        "\r\n",
        "import os\r\n",
        "import numpy as np\r\n",
        "import pandas as pd\r\n",
        "import matplotlib.pyplot as plt\r\n",
        "%matplotlib inline\r\n",
        "import matplotlib.image as mpimg\r\n",
        "\r\n",
        "import glob"
      ],
      "execution_count": 4,
      "outputs": []
    },
    {
      "cell_type": "code",
      "metadata": {
        "colab": {
          "base_uri": "https://localhost:8080/"
        },
        "id": "RKx4HPBak11X",
        "outputId": "fba38cde-f7c0-4680-835c-59090c0d42c7"
      },
      "source": [
        "from google.colab import drive\n",
        "drive.mount('/content/drive')"
      ],
      "execution_count": 5,
      "outputs": [
        {
          "output_type": "stream",
          "text": [
            "Drive already mounted at /content/drive; to attempt to forcibly remount, call drive.mount(\"/content/drive\", force_remount=True).\n"
          ],
          "name": "stdout"
        }
      ]
    },
    {
      "cell_type": "code",
      "metadata": {
        "id": "zwyAXUL2osKV"
      },
      "source": [
        "import keras\r\n",
        "import cv2"
      ],
      "execution_count": 6,
      "outputs": []
    },
    {
      "cell_type": "code",
      "metadata": {
        "id": "rPKKspJ_ovzW"
      },
      "source": [
        "data_dir=\"/content/drive/MyDrive/Colab Notebooks/chest x-ray dataset\""
      ],
      "execution_count": 7,
      "outputs": []
    },
    {
      "cell_type": "code",
      "metadata": {
        "id": "o9dyMSVKPBdk"
      },
      "source": [
        "categories=os.listdir(data_dir)"
      ],
      "execution_count": 8,
      "outputs": []
    },
    {
      "cell_type": "code",
      "metadata": {
        "colab": {
          "base_uri": "https://localhost:8080/"
        },
        "id": "l01sp6MTF4MF",
        "outputId": "f6e42995-3835-451f-8b67-04c513f1358e"
      },
      "source": [
        "labels=[i for i in range(len(categories))]\r\n",
        "\r\n",
        "label_dict=dict(zip(categories,labels)) #empty dictionary\r\n",
        "\r\n",
        "print(label_dict)\r\n",
        "print(categories)\r\n",
        "print(labels)"
      ],
      "execution_count": 9,
      "outputs": [
        {
          "output_type": "stream",
          "text": [
            "{'Covid19 Negative': 0, 'Covid19 Positive': 1}\n",
            "['Covid19 Negative', 'Covid19 Positive']\n",
            "[0, 1]\n"
          ],
          "name": "stdout"
        }
      ]
    },
    {
      "cell_type": "code",
      "metadata": {
        "id": "W087LyuFGUkd"
      },
      "source": [
        "img_size=100\r\n",
        "data=[]\r\n",
        "target=[]\r\n",
        "\r\n",
        "\r\n",
        "for category in categories:\r\n",
        "    folder_path=os.path.join(data_dir,category)\r\n",
        "    img_names=os.listdir(folder_path)\r\n",
        "        \r\n",
        "    for img_name in img_names:\r\n",
        "        img_path=os.path.join(folder_path,img_name)\r\n",
        "        img=cv2.imread(img_path)\r\n",
        "\r\n",
        "        try:\r\n",
        "            gray=cv2.cvtColor(img,cv2.COLOR_BGR2GRAY)           \r\n",
        "            #Coverting the image into gray scale\r\n",
        "            resized=cv2.resize(gray,(img_size,img_size))\r\n",
        "            #resizing the gray scale into 100x100, since we need a fixed common size for all the images in the dataset\r\n",
        "            data.append(resized)\r\n",
        "            target.append(label_dict[category])\r\n",
        "            #appending the image and the label(categorized) into the list (dataset)\r\n",
        "\r\n",
        "        except Exception as e:\r\n",
        "            print('Exception:',e)\r\n",
        "            #if any exception rasied, the exception will be printed here. And pass to the next image"
      ],
      "execution_count": 10,
      "outputs": []
    },
    {
      "cell_type": "code",
      "metadata": {
        "id": "BY3y067BGtGY"
      },
      "source": [
        "import numpy as np\r\n",
        "\r\n",
        "data=np.array(data)/255.0\r\n",
        "data=np.reshape(data,(data.shape[0],img_size,img_size,1))\r\n",
        "target=np.array(target)\r\n",
        "\r\n",
        "from keras.utils import np_utils\r\n",
        "\r\n",
        "new_target=np_utils.to_categorical(target)"
      ],
      "execution_count": 11,
      "outputs": []
    },
    {
      "cell_type": "code",
      "metadata": {
        "colab": {
          "base_uri": "https://localhost:8080/"
        },
        "id": "NLjKlvrGcQOx",
        "outputId": "2c43fc96-b407-44b2-92c9-3fc6dd3d0685"
      },
      "source": [
        "data.shape"
      ],
      "execution_count": 62,
      "outputs": [
        {
          "output_type": "execute_result",
          "data": {
            "text/plain": [
              "(3146, 100, 100, 1)"
            ]
          },
          "metadata": {
            "tags": []
          },
          "execution_count": 62
        }
      ]
    },
    {
      "cell_type": "code",
      "metadata": {
        "id": "cfI8fF-0GxtR"
      },
      "source": [
        "np.save('data',data)\r\n",
        "np.save('target',new_target)"
      ],
      "execution_count": 12,
      "outputs": []
    },
    {
      "cell_type": "code",
      "metadata": {
        "id": "uqiSjjshPGaO"
      },
      "source": [
        "normal_images = []\r\n",
        "for img_path in glob.glob(data_dir + '/Covid19 Negative/*'):\r\n",
        "    normal_images.append(mpimg.imread(img_path))\r\n",
        "\r\n",
        "fig = plt.figure()\r\n",
        "fig.suptitle('normal')\r\n",
        "plt.imshow(normal_images[0], cmap='gray') \r\n",
        "\r\n",
        "covid_images = []\r\n",
        "for img_path in glob.glob(data_dir + '/Covid19 Positive/*'):\r\n",
        "    covid_images.append(mpimg.imread(img_path))\r\n",
        "\r\n",
        "fig = plt.figure()\r\n",
        "fig.suptitle('covid')\r\n",
        "plt.imshow(covid_images[0], cmap='gray')"
      ],
      "execution_count": null,
      "outputs": []
    },
    {
      "cell_type": "code",
      "metadata": {
        "id": "TtCxDHl7IEtB"
      },
      "source": [
        "image_h=100\r\n",
        "image_w=100\r\n",
        "channel=1\r\n",
        "\r\n",
        "input_shape=(image_h,image_w,channel)\r\n",
        "classes=2\r\n",
        "epoch=50\r\n",
        "batch_size=32"
      ],
      "execution_count": 13,
      "outputs": []
    },
    {
      "cell_type": "code",
      "metadata": {
        "id": "1_LfUkLDKweG"
      },
      "source": [
        "from sklearn.model_selection import train_test_split\r\n",
        "train_data,test_data,train_target,test_target=train_test_split(data,target,test_size=0.25)"
      ],
      "execution_count": 15,
      "outputs": []
    },
    {
      "cell_type": "code",
      "metadata": {
        "id": "1BldKzwUjW94"
      },
      "source": [
        "cnn_model = Sequential()\r\n",
        "cnn_model.add(Conv2D(32, (3, 3), input_shape=input_shape))\r\n",
        "cnn_model.add(Activation('relu'))\r\n",
        "cnn_model.add(MaxPooling2D(pool_size=(2, 2)))\r\n",
        "\r\n",
        "cnn_model.add(Conv2D(32, (3, 3)))\r\n",
        "cnn_model.add(Activation('relu'))\r\n",
        "cnn_model.add(MaxPooling2D(pool_size=(2, 2)))\r\n",
        "\r\n",
        "\r\n",
        "cnn_model.add(Conv2D(64,(3,3)))\r\n",
        "cnn_model.add(Activation(\"relu\"))\r\n",
        "cnn_model.add(Conv2D(250,(3,3)))\r\n",
        "cnn_model.add(Activation(\"relu\"))\r\n",
        "  \r\n",
        "cnn_model.add(Conv2D(128,(3,3)))\r\n",
        "cnn_model.add(Activation(\"relu\"))\r\n",
        "cnn_model.add(AvgPool2D(2,2))\r\n",
        "cnn_model.add(Conv2D(64,(3,3)))\r\n",
        "cnn_model.add(Activation(\"relu\"))\r\n",
        "cnn_model.add(AvgPool2D(2,2))\r\n",
        "\r\n",
        "cnn_model.add(Conv2D(256,(2,2)))\r\n",
        "cnn_model.add(Activation(\"relu\"))\r\n",
        "cnn_model.add(MaxPool2D(2,2))\r\n",
        "    \r\n",
        "cnn_model.add(Flatten())\r\n",
        "cnn_model.add(Dense(32))\r\n",
        "cnn_model.add(Dropout(0.25))\r\n",
        "cnn_model.add(Dense(1))\r\n",
        "cnn_model.add(Activation(\"sigmoid\"))"
      ],
      "execution_count": 16,
      "outputs": []
    },
    {
      "cell_type": "code",
      "metadata": {
        "id": "UUdj2TLTkLGs"
      },
      "source": [
        "cnn_model.compile(loss='binary_crossentropy',\r\n",
        "              optimizer='rmsprop',\r\n",
        "              metrics=['accuracy'])"
      ],
      "execution_count": 17,
      "outputs": []
    },
    {
      "cell_type": "code",
      "metadata": {
        "colab": {
          "base_uri": "https://localhost:8080/"
        },
        "id": "O17NI6oNkRde",
        "outputId": "c7bf70d1-5aa1-4f81-8193-edc013e23c28"
      },
      "source": [
        "cnn_model.summary()"
      ],
      "execution_count": 18,
      "outputs": [
        {
          "output_type": "stream",
          "text": [
            "Model: \"sequential\"\n",
            "_________________________________________________________________\n",
            "Layer (type)                 Output Shape              Param #   \n",
            "=================================================================\n",
            "conv2d (Conv2D)              (None, 98, 98, 32)        320       \n",
            "_________________________________________________________________\n",
            "activation (Activation)      (None, 98, 98, 32)        0         \n",
            "_________________________________________________________________\n",
            "max_pooling2d (MaxPooling2D) (None, 49, 49, 32)        0         \n",
            "_________________________________________________________________\n",
            "conv2d_1 (Conv2D)            (None, 47, 47, 32)        9248      \n",
            "_________________________________________________________________\n",
            "activation_1 (Activation)    (None, 47, 47, 32)        0         \n",
            "_________________________________________________________________\n",
            "max_pooling2d_1 (MaxPooling2 (None, 23, 23, 32)        0         \n",
            "_________________________________________________________________\n",
            "conv2d_2 (Conv2D)            (None, 21, 21, 64)        18496     \n",
            "_________________________________________________________________\n",
            "activation_2 (Activation)    (None, 21, 21, 64)        0         \n",
            "_________________________________________________________________\n",
            "conv2d_3 (Conv2D)            (None, 19, 19, 250)       144250    \n",
            "_________________________________________________________________\n",
            "activation_3 (Activation)    (None, 19, 19, 250)       0         \n",
            "_________________________________________________________________\n",
            "conv2d_4 (Conv2D)            (None, 17, 17, 128)       288128    \n",
            "_________________________________________________________________\n",
            "activation_4 (Activation)    (None, 17, 17, 128)       0         \n",
            "_________________________________________________________________\n",
            "average_pooling2d (AveragePo (None, 8, 8, 128)         0         \n",
            "_________________________________________________________________\n",
            "conv2d_5 (Conv2D)            (None, 6, 6, 64)          73792     \n",
            "_________________________________________________________________\n",
            "activation_5 (Activation)    (None, 6, 6, 64)          0         \n",
            "_________________________________________________________________\n",
            "average_pooling2d_1 (Average (None, 3, 3, 64)          0         \n",
            "_________________________________________________________________\n",
            "conv2d_6 (Conv2D)            (None, 2, 2, 256)         65792     \n",
            "_________________________________________________________________\n",
            "activation_6 (Activation)    (None, 2, 2, 256)         0         \n",
            "_________________________________________________________________\n",
            "max_pooling2d_2 (MaxPooling2 (None, 1, 1, 256)         0         \n",
            "_________________________________________________________________\n",
            "flatten (Flatten)            (None, 256)               0         \n",
            "_________________________________________________________________\n",
            "dense (Dense)                (None, 32)                8224      \n",
            "_________________________________________________________________\n",
            "dropout (Dropout)            (None, 32)                0         \n",
            "_________________________________________________________________\n",
            "dense_1 (Dense)              (None, 1)                 33        \n",
            "_________________________________________________________________\n",
            "activation_7 (Activation)    (None, 1)                 0         \n",
            "=================================================================\n",
            "Total params: 608,283\n",
            "Trainable params: 608,283\n",
            "Non-trainable params: 0\n",
            "_________________________________________________________________\n"
          ],
          "name": "stdout"
        }
      ]
    },
    {
      "cell_type": "code",
      "metadata": {
        "colab": {
          "base_uri": "https://localhost:8080/"
        },
        "id": "lvuSrw_FkTWd",
        "outputId": "a76d65a6-1abd-4824-9188-548f400c02be"
      },
      "source": [
        "history=cnn_model.fit(train_data,train_target,epochs=epoch,validation_split=0.25)"
      ],
      "execution_count": 19,
      "outputs": [
        {
          "output_type": "stream",
          "text": [
            "Epoch 1/50\n",
            "56/56 [==============================] - 10s 28ms/step - loss: 0.6989 - accuracy: 0.4705 - val_loss: 1.4490 - val_accuracy: 0.4847\n",
            "Epoch 2/50\n",
            "56/56 [==============================] - 1s 17ms/step - loss: 0.6812 - accuracy: 0.6705 - val_loss: 0.7968 - val_accuracy: 0.6780\n",
            "Epoch 3/50\n",
            "56/56 [==============================] - 1s 17ms/step - loss: 0.5874 - accuracy: 0.7213 - val_loss: 0.5656 - val_accuracy: 0.6966\n",
            "Epoch 4/50\n",
            "56/56 [==============================] - 1s 17ms/step - loss: 0.5107 - accuracy: 0.7692 - val_loss: 0.4481 - val_accuracy: 0.8186\n",
            "Epoch 5/50\n",
            "56/56 [==============================] - 1s 17ms/step - loss: 0.4741 - accuracy: 0.7855 - val_loss: 0.3719 - val_accuracy: 0.8559\n",
            "Epoch 6/50\n",
            "56/56 [==============================] - 1s 17ms/step - loss: 0.3861 - accuracy: 0.8422 - val_loss: 0.5942 - val_accuracy: 0.7102\n",
            "Epoch 7/50\n",
            "56/56 [==============================] - 1s 17ms/step - loss: 0.3512 - accuracy: 0.8538 - val_loss: 0.3131 - val_accuracy: 0.8831\n",
            "Epoch 8/50\n",
            "56/56 [==============================] - 1s 17ms/step - loss: 0.3363 - accuracy: 0.8752 - val_loss: 0.4108 - val_accuracy: 0.8203\n",
            "Epoch 9/50\n",
            "56/56 [==============================] - 1s 17ms/step - loss: 0.2759 - accuracy: 0.8929 - val_loss: 0.4214 - val_accuracy: 0.8322\n",
            "Epoch 10/50\n",
            "56/56 [==============================] - 1s 17ms/step - loss: 0.2328 - accuracy: 0.9090 - val_loss: 0.3267 - val_accuracy: 0.8508\n",
            "Epoch 11/50\n",
            "56/56 [==============================] - 1s 17ms/step - loss: 0.2168 - accuracy: 0.9103 - val_loss: 0.5979 - val_accuracy: 0.8169\n",
            "Epoch 12/50\n",
            "56/56 [==============================] - 1s 17ms/step - loss: 0.2296 - accuracy: 0.9123 - val_loss: 0.3844 - val_accuracy: 0.8373\n",
            "Epoch 13/50\n",
            "56/56 [==============================] - 1s 17ms/step - loss: 0.1818 - accuracy: 0.9396 - val_loss: 0.2916 - val_accuracy: 0.8983\n",
            "Epoch 14/50\n",
            "56/56 [==============================] - 1s 17ms/step - loss: 0.1868 - accuracy: 0.9268 - val_loss: 0.2171 - val_accuracy: 0.9237\n",
            "Epoch 15/50\n",
            "56/56 [==============================] - 1s 17ms/step - loss: 0.1688 - accuracy: 0.9377 - val_loss: 0.2691 - val_accuracy: 0.8831\n",
            "Epoch 16/50\n",
            "56/56 [==============================] - 1s 17ms/step - loss: 0.1441 - accuracy: 0.9458 - val_loss: 0.2582 - val_accuracy: 0.9051\n",
            "Epoch 17/50\n",
            "56/56 [==============================] - 1s 17ms/step - loss: 0.1645 - accuracy: 0.9422 - val_loss: 0.2552 - val_accuracy: 0.9254\n",
            "Epoch 18/50\n",
            "56/56 [==============================] - 1s 17ms/step - loss: 0.1826 - accuracy: 0.9474 - val_loss: 0.2801 - val_accuracy: 0.9153\n",
            "Epoch 19/50\n",
            "56/56 [==============================] - 1s 17ms/step - loss: 0.1250 - accuracy: 0.9535 - val_loss: 0.3159 - val_accuracy: 0.8763\n",
            "Epoch 20/50\n",
            "56/56 [==============================] - 1s 17ms/step - loss: 0.1098 - accuracy: 0.9632 - val_loss: 0.2678 - val_accuracy: 0.8898\n",
            "Epoch 21/50\n",
            "56/56 [==============================] - 1s 17ms/step - loss: 0.0838 - accuracy: 0.9685 - val_loss: 0.2473 - val_accuracy: 0.9322\n",
            "Epoch 22/50\n",
            "56/56 [==============================] - 1s 17ms/step - loss: 0.0673 - accuracy: 0.9760 - val_loss: 0.2745 - val_accuracy: 0.9051\n",
            "Epoch 23/50\n",
            "56/56 [==============================] - 1s 17ms/step - loss: 0.0841 - accuracy: 0.9738 - val_loss: 0.7946 - val_accuracy: 0.8492\n",
            "Epoch 24/50\n",
            "56/56 [==============================] - 1s 17ms/step - loss: 0.1662 - accuracy: 0.9575 - val_loss: 0.2074 - val_accuracy: 0.9339\n",
            "Epoch 25/50\n",
            "56/56 [==============================] - 1s 17ms/step - loss: 0.0672 - accuracy: 0.9778 - val_loss: 0.2155 - val_accuracy: 0.9492\n",
            "Epoch 26/50\n",
            "56/56 [==============================] - 1s 17ms/step - loss: 0.0776 - accuracy: 0.9741 - val_loss: 0.3733 - val_accuracy: 0.8847\n",
            "Epoch 27/50\n",
            "56/56 [==============================] - 1s 17ms/step - loss: 0.0679 - accuracy: 0.9769 - val_loss: 0.2117 - val_accuracy: 0.9458\n",
            "Epoch 28/50\n",
            "56/56 [==============================] - 1s 17ms/step - loss: 0.0552 - accuracy: 0.9829 - val_loss: 0.2185 - val_accuracy: 0.9458\n",
            "Epoch 29/50\n",
            "56/56 [==============================] - 1s 17ms/step - loss: 0.0484 - accuracy: 0.9834 - val_loss: 0.2610 - val_accuracy: 0.9305\n",
            "Epoch 30/50\n",
            "56/56 [==============================] - 1s 17ms/step - loss: 0.0528 - accuracy: 0.9866 - val_loss: 0.2304 - val_accuracy: 0.9373\n",
            "Epoch 31/50\n",
            "56/56 [==============================] - 1s 17ms/step - loss: 0.0445 - accuracy: 0.9875 - val_loss: 0.2843 - val_accuracy: 0.9356\n",
            "Epoch 32/50\n",
            "56/56 [==============================] - 1s 17ms/step - loss: 0.0696 - accuracy: 0.9779 - val_loss: 0.2242 - val_accuracy: 0.9169\n",
            "Epoch 33/50\n",
            "56/56 [==============================] - 1s 17ms/step - loss: 0.0488 - accuracy: 0.9836 - val_loss: 0.2308 - val_accuracy: 0.9424\n",
            "Epoch 34/50\n",
            "56/56 [==============================] - 1s 17ms/step - loss: 0.0808 - accuracy: 0.9834 - val_loss: 0.2070 - val_accuracy: 0.9475\n",
            "Epoch 35/50\n",
            "56/56 [==============================] - 1s 17ms/step - loss: 0.0379 - accuracy: 0.9945 - val_loss: 0.1819 - val_accuracy: 0.9441\n",
            "Epoch 36/50\n",
            "56/56 [==============================] - 1s 17ms/step - loss: 0.0202 - accuracy: 0.9947 - val_loss: 0.2518 - val_accuracy: 0.9390\n",
            "Epoch 37/50\n",
            "56/56 [==============================] - 1s 17ms/step - loss: 0.0551 - accuracy: 0.9856 - val_loss: 0.3296 - val_accuracy: 0.9390\n",
            "Epoch 38/50\n",
            "56/56 [==============================] - 1s 17ms/step - loss: 0.0501 - accuracy: 0.9920 - val_loss: 0.2601 - val_accuracy: 0.9441\n",
            "Epoch 39/50\n",
            "56/56 [==============================] - 1s 17ms/step - loss: 0.0245 - accuracy: 0.9946 - val_loss: 0.3373 - val_accuracy: 0.9407\n",
            "Epoch 40/50\n",
            "56/56 [==============================] - 1s 17ms/step - loss: 0.0170 - accuracy: 0.9944 - val_loss: 0.3252 - val_accuracy: 0.9475\n",
            "Epoch 41/50\n",
            "56/56 [==============================] - 1s 17ms/step - loss: 0.0756 - accuracy: 0.9811 - val_loss: 0.2229 - val_accuracy: 0.9475\n",
            "Epoch 42/50\n",
            "56/56 [==============================] - 1s 17ms/step - loss: 0.0270 - accuracy: 0.9904 - val_loss: 0.3110 - val_accuracy: 0.9542\n",
            "Epoch 43/50\n",
            "56/56 [==============================] - 1s 20ms/step - loss: 0.0745 - accuracy: 0.9789 - val_loss: 0.3227 - val_accuracy: 0.9390\n",
            "Epoch 44/50\n",
            "56/56 [==============================] - 1s 17ms/step - loss: 0.0367 - accuracy: 0.9946 - val_loss: 0.3211 - val_accuracy: 0.9373\n",
            "Epoch 45/50\n",
            "56/56 [==============================] - 1s 17ms/step - loss: 0.0124 - accuracy: 0.9973 - val_loss: 0.2884 - val_accuracy: 0.9373\n",
            "Epoch 46/50\n",
            "56/56 [==============================] - 1s 17ms/step - loss: 0.0109 - accuracy: 0.9961 - val_loss: 0.3265 - val_accuracy: 0.9492\n",
            "Epoch 47/50\n",
            "56/56 [==============================] - 1s 17ms/step - loss: 0.1204 - accuracy: 0.9743 - val_loss: 0.2215 - val_accuracy: 0.9424\n",
            "Epoch 48/50\n",
            "56/56 [==============================] - 1s 17ms/step - loss: 0.0080 - accuracy: 0.9987 - val_loss: 0.3534 - val_accuracy: 0.9051\n",
            "Epoch 49/50\n",
            "56/56 [==============================] - 1s 17ms/step - loss: 0.0467 - accuracy: 0.9823 - val_loss: 0.2413 - val_accuracy: 0.9492\n",
            "Epoch 50/50\n",
            "56/56 [==============================] - 1s 17ms/step - loss: 0.0250 - accuracy: 0.9949 - val_loss: 0.4296 - val_accuracy: 0.9288\n"
          ],
          "name": "stdout"
        }
      ]
    },
    {
      "cell_type": "code",
      "metadata": {
        "colab": {
          "base_uri": "https://localhost:8080/",
          "height": 573
        },
        "id": "vJZUmUgelP_X",
        "outputId": "caa2401a-fd2d-4348-d63a-120e46b2bb3d"
      },
      "source": [
        "plt.plot(history.history['accuracy'])\r\n",
        "plt.plot(history.history['val_accuracy'])\r\n",
        "plt.title('model accuracy')\r\n",
        "plt.ylabel('accuracy')\r\n",
        "plt.xlabel('epoch')\r\n",
        "plt.legend(['train', 'test'], loc='upper left')\r\n",
        "plt.show()\r\n",
        "\r\n",
        "plt.plot(history.history['loss'])\r\n",
        "plt.plot(history.history['val_loss'])\r\n",
        "plt.title('model loss')\r\n",
        "plt.ylabel('loss')\r\n",
        "plt.xlabel('epoch')\r\n",
        "plt.legend(['train', 'test'], loc='upper left')\r\n",
        "plt.show()"
      ],
      "execution_count": 20,
      "outputs": [
        {
          "output_type": "display_data",
          "data": {
            "image/png": "[encoded data removed]",
            "text/plain": [
              "<Figure size 432x288 with 1 Axes>"
            ]
          },
          "metadata": {
            "tags": [],
            "needs_background": "light"
          }
        },
        {
          "output_type": "display_data",
          "data": {
            "image/png": "[encoded data removed]",
            "text/plain": [
              "<Figure size 432x288 with 1 Axes>"
            ]
          },
          "metadata": {
            "tags": [],
            "needs_background": "light"
          }
        }
      ]
    },
    {
      "cell_type": "code",
      "metadata": {
        "colab": {
          "base_uri": "https://localhost:8080/"
        },
        "id": "iIeVxQW9Dr7W",
        "outputId": "9056ff3f-23a3-44d2-cb5b-80df9157c02c"
      },
      "source": [
        "print(cnn_model.evaluate(test_data,test_target))"
      ],
      "execution_count": 33,
      "outputs": [
        {
          "output_type": "stream",
          "text": [
            "25/25 [==============================] - 0s 11ms/step - loss: 0.2604 - accuracy: 0.9466\n",
            "[0.2604374885559082, 0.9466328024864197]\n"
          ],
          "name": "stdout"
        }
      ]
    },
    {
      "cell_type": "code",
      "metadata": {
        "id": "lPnX5ihhEYbg"
      },
      "source": [
        "cnn_model.save('modelCovid19_1.h5')"
      ],
      "execution_count": 35,
      "outputs": []
    },
    {
      "cell_type": "code",
      "metadata": {
        "id": "mk2gGQokLNrx"
      },
      "source": [
        "pred_target=cnn_model.predict(test_data)"
      ],
      "execution_count": 37,
      "outputs": []
    },
    {
      "cell_type": "code",
      "metadata": {
        "id": "Wp_VSrT0S3Mt"
      },
      "source": [
        "from tensorflow.keras.preprocessing import image\r\n",
        "test_image=cv2.imread('/content/drive/MyDrive/Colab Notebooks/chest x-ray dataset/covid.jpeg')\r\n",
        "test_image=cv2.cvtColor(test_image,cv2.COLOR_BGR2GRAY)           \r\n",
        "test_image=cv2.resize(test_image,(img_size,img_size))\r\n",
        "test_image=np.array(test_image)/255.0\r\n",
        "test_image=np.reshape(test_image,(1,img_size,img_size,1))"
      ],
      "execution_count": 83,
      "outputs": []
    },
    {
      "cell_type": "code",
      "metadata": {
        "colab": {
          "base_uri": "https://localhost:8080/"
        },
        "id": "RX0W1XDQY3Hf",
        "outputId": "47b37773-07d4-41ba-89cd-40601957ecbc"
      },
      "source": [
        "test_image.shape"
      ],
      "execution_count": 74,
      "outputs": [
        {
          "output_type": "execute_result",
          "data": {
            "text/plain": [
              "(1, 100, 100, 1)"
            ]
          },
          "metadata": {
            "tags": []
          },
          "execution_count": 74
        }
      ]
    },
    {
      "cell_type": "code",
      "metadata": {
        "colab": {
          "base_uri": "https://localhost:8080/"
        },
        "id": "ZmjaJgmAeN8k",
        "outputId": "da2d96fd-c86b-4568-c96e-87102f706cea"
      },
      "source": [
        "result=cnn_model.predict(test_image)\r\n",
        "result"
      ],
      "execution_count": 84,
      "outputs": [
        {
          "output_type": "execute_result",
          "data": {
            "text/plain": [
              "array([[0.99354494]], dtype=float32)"
            ]
          },
          "metadata": {
            "tags": []
          },
          "execution_count": 84
        }
      ]
    },
    {
      "cell_type": "code",
      "metadata": {
        "colab": {
          "base_uri": "https://localhost:8080/"
        },
        "id": "9nYiKGUZf11u",
        "outputId": "69dd84fe-0eb3-47bb-973d-e105001201e7"
      },
      "source": [
        "if result[0]<=0.5:\r\n",
        "  print(\"The person does not have symptoms of Covid\")\r\n",
        "else:\r\n",
        "  print(\"The person has symptoms of Covid\")"
      ],
      "execution_count": 85,
      "outputs": [
        {
          "output_type": "stream",
          "text": [
            "The person has symptoms of Covid\n"
          ],
          "name": "stdout"
        }
      ]
    }
  ]
}